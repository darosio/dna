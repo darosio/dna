{
 "cells": [
  {
   "cell_type": "markdown",
   "id": "37a3d50e-441b-485c-b130-4602712f2616",
   "metadata": {},
   "source": [
    "# 2024-09-20"
   ]
  },
  {
   "cell_type": "code",
   "execution_count": null,
   "id": "1f9d5bea-cd20-4ce5-98b6-e5f826c54a4c",
   "metadata": {},
   "outputs": [],
   "source": [
    "%load_ext autoreload\n",
    "%autoreload 2\n",
    "\n",
    "import numpy as np\n",
    "np.mean([1,2])"
   ]
  }
 ],
 "metadata": {
  "kernelspec": {
   "display_name": "Python 3 (ipykernel)",
   "language": "python",
   "name": "python3"
  },
  "language_info": {
   "codemirror_mode": {
    "name": "ipython",
    "version": 3
   },
   "file_extension": ".py",
   "mimetype": "text/x-python",
   "name": "python",
   "nbconvert_exporter": "python",
   "pygments_lexer": "ipython3",
   "version": "3.12.4"
  }
 },
 "nbformat": 4,
 "nbformat_minor": 5
}
