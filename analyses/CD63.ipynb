{
 "cells": [
  {
   "cell_type": "markdown",
   "id": "37a3d50e-441b-485c-b130-4602712f2616",
   "metadata": {},
   "source": [
    "# 2024-09-20"
   ]
  },
  {
   "cell_type": "code",
   "execution_count": null,
   "id": "1f9d5bea-cd20-4ce5-98b6-e5f826c54a4c",
   "metadata": {},
   "outputs": [],
   "source": [
    "%load_ext autoreload\n",
    "%autoreload 2\n",
    "\n",
    "import pandas as pd\n",
    "import numpy as np\n",
    "import matplotlib.pyplot as plt\n",
    "from io import StringIO\n",
    "import os\n",
    "#import xlrd\n",
    "from Bio.ExPASy import ScanProsite\n",
    "from Bio import SeqIO\n",
    "from Bio.Seq import Seq\n",
    "from Bio.SeqRecord import SeqRecord\n",
    "from itertools import combinations"
   ]
  },
  {
   "cell_type": "code",
   "execution_count": null,
   "id": "0d98c48a-2b97-482f-a4e3-28cabade4877",
   "metadata": {},
   "outputs": [],
   "source": [
    "import minotaor\n",
    "from Bio.Seq import Seq\n",
    "from Bio.SeqRecord import SeqRecord\n",
    "\n",
    "protein = Seq(\"SYYHHHHHHHDYPTEGKSSGSGSESKST*EDINBURGHGENQMEFQUNDRY*\")\n",
    "protein_record = SeqRecord(protein, id=\"example\", annotations={\"molecule_type\": \"protein\"})\n",
    "\n",
    "protein_record = minotaor.annotate_record(protein_record)  # search is case sensitive"
   ]
  },
  {
   "cell_type": "code",
   "execution_count": null,
   "id": "568cb187-1876-4965-ba8c-a3aa7f800da7",
   "metadata": {},
   "outputs": [],
   "source": [
    "graphic_record = minotaor.MinotaorTranslator().translate_record(protein_record)\n",
    "ax, _ = graphic_record.plot(figure_width=10, strand_in_label_threshold=7)\n",
    "graphic_record.plot_sequence(ax)"
   ]
  },
  {
   "cell_type": "code",
   "execution_count": null,
   "id": "0d1be018-866c-433f-8c51-e93bb6e53b95",
   "metadata": {},
   "outputs": [],
   "source": [
    "dna_sequence = 'atggcggtggaaggaggaatgaaatgtgtgaagttcttgctctacgtcctcctgctggccttttgcgcctgtgcagtgggactgattgccgtgggtgtcggggcacagcttgtcctgagtcagaccAGCGAGAGAAGCATGAACTTCataatccagggggctacccctggctctctgttgccagtggtcatcatcgcagtgggtgtcttcctcttcctggtggcttttgtgggctgctgcggggcctgcaaggagaactattgtcttatgatcacgtttgccatctttctgtctcttatcatgttggtggaggtggccgcagccattgctggctatgtgtttagagataaggtgatgtcagagtttaataacaacttccggcagcagatggagaattacccgaaaaataaccacactgcttcgatcctggacaggatgcaggcagattttaagtgctgtggggctAGCGAGAGAAGCATGAACTTCgctaactacacagattgggagaaaatcccttccatgtcgaagaaccgagtccccgactcctgctgcattaatgttactgtgggctgtgggattaatttcaacgagaaggcgatccataaggagggctgtgtggagaagattgggggctggctgaggaaaaatgtgctggtggtagctgcagcagcccttggaattgcttttgtcgaggttttgggaattgtctttgcctgctgcctcgtgaagagtatcagaagtggctacgaggtgatgtag'\n",
    "protein_sequence = Seq(dna_sequence).translate(table='Standard')\n",
    "print(protein_sequence)"
   ]
  },
  {
   "cell_type": "code",
   "execution_count": null,
   "id": "c10fe247-46cc-47aa-bec4-a3c8a2a304f9",
   "metadata": {},
   "outputs": [],
   "source": [
    "sequence = 'MAVEGGMKCVKFLLYVLLLAFCACAVGLIAVGVGAQLVLSQTSERSMNFIIQGATPGSLLPVVIIAVGVFLFLVAFVGCCGACKENYCLMITFAIFLSLIMLVEVAAAIAGYVFRDKVMSEFNNNFRQQMENYPKNNHTASILDRMQADFKCCGASERSMNFANYTDWEKIPSMSKNRVPDSCCINVTVGCGINFNEKAIHKEGCVEKIGGWLRKNVLVVAAAALGIAFVEVLGIVFACCLVKSIRSGYEVM'"
   ]
  },
  {
   "cell_type": "code",
   "execution_count": null,
   "id": "6d0c8bf9-ca91-4c83-839f-3fc30f4e1490",
   "metadata": {},
   "outputs": [],
   "source": [
    "cd63_l12 = Seq(\"MAVEGGMKCVKFLLYVLLLAFCACAVGLIAVGVGAQLVLSQTSERSMNFIIQGATPGSLLPVVIIAVGVFLFLVAFVGCCGACKENYCLMITFAIFLSLIMLVEVAAAIAGYVFRDKVMSEFNNNFRQQMENYPKNNHTASILDRMQADFKCCGASERSMNFANYTDWEKIPSMSKNRVPDSCCINVTVGCGINFNEKAIHKEGCVEKIGGWLRKNVLVVAAAALGIAFVEVLGIVFACCLVKSIRSGYEVM*\")"
   ]
  },
  {
   "cell_type": "code",
   "execution_count": null,
   "id": "44ad109d-2453-42d2-8e8d-46e85ff520c4",
   "metadata": {},
   "outputs": [],
   "source": [
    "protein_record = SeqRecord(cd63_l12[:120], id=\"CD63\", annotations={\"molecule_type\": \"protein\"})\n",
    "protein_record = minotaor.annotate_record(protein_record)  # search is case sensitive\n",
    "\n",
    "graphic_record = minotaor.MinotaorTranslator().translate_record(protein_record)\n",
    "ax, _ = graphic_record.plot(figure_width=16, strand_in_label_threshold=14, elevate_outline_annotations=True, max_line_length=10)\n",
    "graphic_record.plot_sequence(ax)"
   ]
  },
  {
   "cell_type": "code",
   "execution_count": null,
   "id": "ba323c1b-ec05-48d4-ab54-3faab15d19f6",
   "metadata": {},
   "outputs": [],
   "source": [
    "scanprosite_handle = ScanProsite.scan(seq=sequence, mirror='https://prosite.expasy.org/', output='xml')\n",
    "scanprosite_record = ScanProsite.read(scanprosite_handle)\n",
    "\n",
    "protein_record = SeqRecord(Seq(sequence), id=\"CD63\", annotations={\"molecule_type\": \"protein\"})\n",
    "protein_record = minotaor.add_scanprosite_results(protein_record, scanprosite_record)"
   ]
  },
  {
   "cell_type": "code",
   "execution_count": null,
   "id": "c1042879-3457-4ac6-af4a-30dff558feed",
   "metadata": {},
   "outputs": [],
   "source": [
    "protein_record"
   ]
  },
  {
   "cell_type": "code",
   "execution_count": null,
   "id": "12c68ea3-9ffb-4ab8-ae66-20f1dbed4f4e",
   "metadata": {},
   "outputs": [],
   "source": [
    "graphic_record = minotaor.MinotaorTranslator().translate_record(protein_record)\n",
    "ax, _ = graphic_record.plot(figure_width=32, strand_in_label_threshold=70)\n",
    "graphic_record.plot_sequence(ax)"
   ]
  },
  {
   "cell_type": "code",
   "execution_count": null,
   "id": "37314634-3449-403d-b902-01ae2072c08f",
   "metadata": {},
   "outputs": [],
   "source": [
    "regex = minotaor.convert_prosite_to_regex(\"<A-[GV]-{PR}-[FYW](2)-{P}(4)-x-x(8)>.\")\n",
    "regex\n",
    "# '^A[GV][^PR][FYW]{2}[^P]{4}[^\\\\*][^\\\\*]{8}$'\n",
    "minotaor.convert_regex_to_prosite(regex)\n",
    "# '<A-[GV]-{PR}-[FYW](2)-{P}(4)-x-x(8)>.'"
   ]
  },
  {
   "cell_type": "code",
   "execution_count": null,
   "id": "a10ff205-1f82-4bfd-9c51-33900076e376",
   "metadata": {},
   "outputs": [],
   "source": [
    "import minotaor\n",
    "from Bio import SearchIO, SeqIO\n",
    "handle = '/home/dan/Sync/proj/WORK/CD63/iprscan5-R20240920-175850-0791-99225732-p1m.xml'\n",
    "interpro = SearchIO.read(handle, 'interproscan-xml')  # handle is an InterProScan xml file\n",
    "#seqrecord = SeqIO.read(\"protein.fasta\", \"fasta\")\n",
    "seqrecord = protein_record\n",
    "\n",
    "seqrecord_annotated = minotaor.add_interpro(seqrecord, interpro, hit_types=['phobius'])\n",
    "#seqrecord_annotated = minotaor.add_interpro(seqrecord, interpro)\n"
   ]
  },
  {
   "cell_type": "code",
   "execution_count": null,
   "id": "06882042-cb90-4967-afa8-3c13e97114d5",
   "metadata": {},
   "outputs": [],
   "source": [
    "seqrecord_annotated\n",
    "graphic_record = minotaor.MinotaorTranslator().translate_record(seqrecord_annotated)\n",
    "ax, _ = graphic_record.plot(figure_width=32, strand_in_label_threshold=70)\n",
    "graphic_record.plot_sequence(ax)"
   ]
  }
 ],
 "metadata": {
  "kernelspec": {
   "display_name": "Python 3 (ipykernel)",
   "language": "python",
   "name": "python3"
  },
  "language_info": {
   "codemirror_mode": {
    "name": "ipython",
    "version": 3
   },
   "file_extension": ".py",
   "mimetype": "text/x-python",
   "name": "python",
   "nbconvert_exporter": "python",
   "pygments_lexer": "ipython3",
   "version": "3.12.4"
  }
 },
 "nbformat": 4,
 "nbformat_minor": 5
}
