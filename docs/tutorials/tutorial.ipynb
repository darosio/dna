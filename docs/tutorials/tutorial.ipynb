{
 "cells": [
  {
   "cell_type": "markdown",
   "id": "654848af-fda5-46a3-b607-04df52d990cb",
   "metadata": {},
   "source": [
    "# Tutorial title"
   ]
  },
  {
   "cell_type": "code",
   "execution_count": null,
   "id": "9debfb2b-2d67-45ac-8ac3-469a06e329b9",
   "metadata": {},
   "outputs": [],
   "source": [
    "import numpy as np"
    "np.arange(10)"
   ]
  }
 ],
 "metadata": {
  "kernelspec": {
   "display_name": "Python 3 (ipykernel)",
   "language": "python",
   "name": "python3"
  },
  "language_info": {
   "codemirror_mode": {
    "name": "ipython",
    "version": 3
   },
   "file_extension": ".py",
   "mimetype": "text/x-python",
   "name": "python",
   "nbconvert_exporter": "python",
   "pygments_lexer": "ipython3",
   "version": "3.11.4"
  }
 },
 "nbformat": 4,
 "nbformat_minor": 5
}
